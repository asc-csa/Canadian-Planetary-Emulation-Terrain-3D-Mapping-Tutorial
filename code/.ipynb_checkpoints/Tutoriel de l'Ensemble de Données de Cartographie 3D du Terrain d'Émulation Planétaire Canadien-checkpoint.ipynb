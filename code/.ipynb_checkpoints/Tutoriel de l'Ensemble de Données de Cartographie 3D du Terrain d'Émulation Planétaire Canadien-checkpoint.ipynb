{
 "cells": [
  {
   "cell_type": "markdown",
   "id": "fcf01ac7",
   "metadata": {},
   "source": [
    "# Tutoriel de Cartographie 3D du Terrain d'Émulation Planétaire Canadien\n",
    "***\n",
    "\n",
    "**Tutoriel :** Ce tutoriel fournit des conseils pour créer une carte 3D du Terrain d'Émulation de Mars de l'Agence spatiale canadienne via Python. Le MET de l'ASC est une installation d'essai extérieure avec des dimensions d'espace de travail de 120m x 60m. Le terrain se compose de roches dispersées sur le sable, ainsi que de quelques grandes caractéristiques de crête, cratère et affleurement.\n",
    "**Mission et Instrument :** MobileRobots Pioneer P2AT modifié\n",
    "**Cible :** Terrain d'Émulation Planétaire Canadien\n",
    "**Exigences du système :** Accès à Internet\n",
    "**Niveau du tutoriel :** Intermédiaire\n",
    "**À propos :** L'ensemble de données se compose de 102 balayages laser obtenus à l'aide d'un MobileRobots Pioneer P2AT modifié au Terrain d'Émulation de Mars (MET) de l'Agence spatiale canadienne (ASC), situé près de Montréal, Québec, Canada. Cet ensemble de données a été collecté à des fins de cartographie en octobre 2010. Pour plus d'informations sur l'ensemble de données, visitez : [Ensemble de données de cartographie 3D d'émulation planétaire canadienne - Portail de données ouvertes de l'Agence spatiale canadienne](https://donnees-data.asc-csa.gc.ca/en/dataset/65376529-3z6l-6u7e-732sbzy824wa25) et la [documentation du laboratoire de robotique spatiale autonome de l'ensemble de données de cartographie 3D d'émulation planétaire canadienne](http://asrl.utias.utoronto.ca/datasets/3dmap/).<br>"
   ]
  },
  {
   "cell_type": "code",
   "execution_count": null,
   "id": "0ba6269a",
   "metadata": {},
   "outputs": [],
   "source": [
    "#Import the necessary libraries\n",
    "import os\n",
    "import numpy as np\n",
    "import open3d as o3d\n",
    "import matplotlib.pyplot as plt"
   ]
  },
  {
   "cell_type": "code",
   "execution_count": null,
   "id": "3930db96",
   "metadata": {},
   "outputs": [],
   "source": [
    "#Download the dataset\n",
    "pcd_path = r'C:\\Users\\rsheikholmolouki\\Desktop\\p2at_met'"
   ]
  },
  {
   "cell_type": "code",
   "execution_count": null,
   "id": "ff7f18bf",
   "metadata": {},
   "outputs": [],
   "source": [
    "file_list = []\n",
    "transform_list = []\n",
    "#Traverse the directory to collect file and trasnform lists\n",
    "for root, dirs, files in os.walk(pcd_path):\n",
    "    for file in files:\n",
    "        if file.endswith ('.xyz'): #.xyz file refers to Cartesian Laser Data\n",
    "            file_list.append(os.path.join(root,file))\n",
    "            \n",
    "        if file.endswith ('.gt'): #.gt file refers to Ground trurth sensor poses\n",
    "            transform_list.append(os.path.join(root,file))"
   ]
  },
  {
   "cell_type": "code",
   "execution_count": null,
   "id": "f8ef3b82",
   "metadata": {},
   "outputs": [],
   "source": [
    "#Loading point cloud data and creating a point cloud object\n",
    "pcd_data = []\n",
    "for file in file_list:\n",
    "    try:\n",
    "        data= np.loadtxt(file,delimiter = ' ', dtype = float)\n",
    "        pcd = o3d.geometry.PointCloud()\n",
    "        pcd.points = o3d.utility.Vector3dVector(data[:,:3])\n",
    "        pcd_data.append(pcd)\n",
    "        del pcd\n",
    "    except ValueError as e:\n",
    "        print (f'Error loading file {file}:{e}')"
   ]
  },
  {
   "cell_type": "code",
   "execution_count": null,
   "id": "10e2ff65",
   "metadata": {},
   "outputs": [],
   "source": [
    "#Opening and reading the contents of the tranform file\n",
    "f = open(transform_list[1], \"r\")\n",
    "print(f.read())"
   ]
  },
  {
   "cell_type": "code",
   "execution_count": null,
   "id": "eca667c7",
   "metadata": {},
   "outputs": [],
   "source": [
    "#Accessing tranform list elements\n",
    "print(transform_list[0],transform_list[1] )"
   ]
  },
  {
   "cell_type": "code",
   "execution_count": null,
   "id": "6fd5f410",
   "metadata": {},
   "outputs": [],
   "source": [
    "#Combine the point cloud data with corresponding transforms\n",
    "pcd_combined = o3d.geometry.PointCloud()\n",
    "\n",
    "for i in range(len(transform_list)): \n",
    "    T = np.loadtxt(transform_list[i])\n",
    "    pcd_combined += pcd_data[i].transform(T)"
   ]
  },
  {
   "cell_type": "code",
   "execution_count": null,
   "id": "d825681e",
   "metadata": {},
   "outputs": [],
   "source": [
    "print(pcd_combined)\n",
    "#Visualize the point cloud after transformation\n",
    "o3d.visualization.draw_geometries([pcd_combined])"
   ]
  },
  {
   "cell_type": "markdown",
   "id": "1415a777",
   "metadata": {},
   "source": [
    "![Mars%20Yard.png](attachment:Mars%20Yard.png)"
   ]
  },
  {
   "cell_type": "code",
   "execution_count": null,
   "id": "15d5ce49",
   "metadata": {},
   "outputs": [],
   "source": [
    "downsampled_pcd = pcd_combined.voxel_down_sample(voxel_size= 0.02)\n",
    "print(downsampled_pcd)\n",
    "#Visualize the point cloud after transformation\n",
    "o3d.visualization.draw_geometries([downsampled_pcd])"
   ]
  },
  {
   "cell_type": "markdown",
   "id": "bd72e095",
   "metadata": {},
   "source": [
    "![down.png](attachment:down.png)"
   ]
  },
  {
   "cell_type": "code",
   "execution_count": null,
   "id": "12ccef80",
   "metadata": {},
   "outputs": [],
   "source": [
    "#statistical removal of outliers, the lower the std_ratio the more aggressive it is\n",
    "cl_pcd, ind = downsampled_pcd.remove_statistical_outlier(nb_neighbors=40, std_ratio= 3.75)\n",
    "o3d.visualization.draw_geometries([cl_pcd])"
   ]
  },
  {
   "cell_type": "markdown",
   "id": "9b882353",
   "metadata": {},
   "source": [
    "![horizontal.png](attachment:horizontal.png)"
   ]
  },
  {
   "cell_type": "markdown",
   "id": "f5a34890",
   "metadata": {},
   "source": [
    "![outlier.png](attachment:outlier.png)"
   ]
  },
  {
   "cell_type": "markdown",
   "id": "47c3b7c3",
   "metadata": {},
   "source": [
    "### Recadrage Manuel du Mars Yard :\n",
    "Pour sélectionner manuellement une partie du Mars Yard, les commandes suivantes peuvent être utilisées. Les points seront sauvegardés lorsque la fenêtre se ferme. Dans ce tutoriel, les limites autour du Mars Yard sont recadrées. <br>\n",
    "\n",
    "**Commandes** :\n",
    "1) Utilisez x, y, z pour s'orienter dans l'axe<br>\n",
    "2) f permet une vue libre <br>\n",
    "3) 1, 2, 3, 4 couleurs utilisant l'éclairage phong, coordonnées x, coordonnées y, coordonnées z (z est le meilleur dans ce cas pour l'éclairage topographique) <br>\n",
    "4) Shift + 1, 2, 3, 4, 5 sont différentes options de couleur <br>\n",
    "5) Cliquez sur k pour verrouiller l'édition<br>\n",
    "6) Maintenez le clic gauche pour dessiner un rectangle <br>\n",
    "7) Maintenez shift + clic gauche pour dessiner un polygone<br>\n",
    "8) Cliquez sur c pour recadrer les points<br>"
   ]
  },
  {
   "cell_type": "code",
   "execution_count": null,
   "id": "db94a9c0",
   "metadata": {},
   "outputs": [],
   "source": [
    "def pcd_crop_geometry(pcd):\n",
    "    print(\"Manual Cropping of Mars Yard\")\n",
    "    vis = o3d.visualization.VisualizerWithEditing()\n",
    "    vis.create_window()\n",
    "    vis.add_geometry(pcd)\n",
    "    vis.run()  \n",
    "    vis.destroy_window()\n",
    "    return vis.get_cropped_geometry()\n",
    "    \n",
    "cropped_pcd = pcd_crop_geometry(cl_pcd)"
   ]
  },
  {
   "cell_type": "markdown",
   "id": "64e5abb7",
   "metadata": {},
   "source": [
    "![manual.png](attachment:manual.png)"
   ]
  },
  {
   "cell_type": "code",
   "execution_count": null,
   "id": "e98ce8a0",
   "metadata": {},
   "outputs": [],
   "source": [
    "plane_model, plane_points = cropped_pcd.segment_plane(distance_threshold=0.5,\n",
    "                                         ransac_n=5,\n",
    "                                         num_iterations=1000)\n",
    "\n",
    "inlier_cloud = cropped_pcd.select_by_index(plane_points)\n",
    "inlier_cloud.paint_uniform_color([1.0, 0, 0])\n",
    "outlier_cloud = cropped_pcd.select_by_index(plane_points, invert=True)\n",
    "outlier_cloud.paint_uniform_color([0, 0, 1.0])\n",
    "\n",
    "map_bounding_box = inlier_cloud.get_axis_aligned_bounding_box()\n",
    "map_bounding_box.color = [1.0, 0, 0]\n",
    "\n",
    "o3d.visualization.draw_geometries([inlier_cloud, outlier_cloud, map_bounding_box])"
   ]
  },
  {
   "cell_type": "markdown",
   "id": "331d24a7",
   "metadata": {},
   "source": [
    "![manual%20plan.png](attachment:manual%20plan.png)"
   ]
  },
  {
   "cell_type": "code",
   "execution_count": null,
   "id": "6040cf2c",
   "metadata": {},
   "outputs": [],
   "source": [
    "border_margin = 0.5\n",
    "min_bound = map_bounding_box.min_bound - border_margin\n",
    "max_bound = map_bounding_box.max_bound + border_margin\n",
    "cropping_box = o3d.geometry.AxisAlignedBoundingBox(min_bound = min_bound, max_bound = max_bound)\n",
    "cropping_box.color = [0, 1, 0]\n",
    "o3d.visualization.draw_geometries([cl_pcd, cropping_box])\n",
    "cropped_pcd = pcd_combined.crop(cropping_box)\n",
    "o3d.visualization.draw_geometries([cropped_pcd])"
   ]
  },
  {
   "cell_type": "markdown",
   "id": "68599c24",
   "metadata": {},
   "source": [
    "![map%20selection%20.png](attachment:map%20selection%20.png)"
   ]
  },
  {
   "cell_type": "markdown",
   "id": "63767245",
   "metadata": {},
   "source": [
    "![Final%20map.png](attachment:Final%20map.png)"
   ]
  }
 ],
 "metadata": {
  "kernelspec": {
   "display_name": "Python 3",
   "language": "python",
   "name": "python3"
  },
  "language_info": {
   "codemirror_mode": {
    "name": "ipython",
    "version": 3
   },
   "file_extension": ".py",
   "mimetype": "text/x-python",
   "name": "python",
   "nbconvert_exporter": "python",
   "pygments_lexer": "ipython3",
   "version": "3.8.5"
  }
 },
 "nbformat": 4,
 "nbformat_minor": 4
}